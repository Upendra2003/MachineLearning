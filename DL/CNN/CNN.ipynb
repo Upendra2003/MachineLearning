{
 "cells": [
  {
   "cell_type": "code",
   "execution_count": 2,
   "id": "b7c439c9",
   "metadata": {},
   "outputs": [],
   "source": [
    "import tensorflow as tf\n",
    "from keras.preprocessing.image import ImageDataGenerator"
   ]
  },
  {
   "cell_type": "markdown",
   "id": "3dbaac43",
   "metadata": {},
   "source": [
    "# Data Preprocessing"
   ]
  },
  {
   "cell_type": "code",
   "execution_count": 4,
   "id": "0941de01",
   "metadata": {},
   "outputs": [
    {
     "name": "stdout",
     "output_type": "stream",
     "text": [
      "Found 8005 images belonging to 2 classes.\n"
     ]
    }
   ],
   "source": [
    "#Training Set\n",
    "train_datagen=ImageDataGenerator(\n",
    "    rescale=1./255,\n",
    "    shear_range=0.2,\n",
    "    zoom_range=0.2,\n",
    "    horizontal_flip=True\n",
    ")\n",
    "\n",
    "training_set=train_datagen.flow_from_directory(\n",
    "    'training_set/training_set',\n",
    "    target_size=(64,64),\n",
    "    batch_size=32,\n",
    "    class_mode='binary'\n",
    ")"
   ]
  },
  {
   "cell_type": "code",
   "execution_count": 5,
   "id": "c8435f02",
   "metadata": {},
   "outputs": [
    {
     "name": "stdout",
     "output_type": "stream",
     "text": [
      "Found 2023 images belonging to 2 classes.\n"
     ]
    }
   ],
   "source": [
    "#testing set\n",
    "test_datagen=ImageDataGenerator(rescale=1./255)\n",
    "test_set=test_datagen.flow_from_directory(\n",
    "    'test_set/test_set',\n",
    "    target_size=(64,64),\n",
    "    batch_size=32,\n",
    "    class_mode='binary'\n",
    ")"
   ]
  },
  {
   "cell_type": "markdown",
   "id": "7ed439be",
   "metadata": {},
   "source": [
    "# Building the CNN"
   ]
  },
  {
   "cell_type": "code",
   "execution_count": 7,
   "id": "f531479b",
   "metadata": {},
   "outputs": [
    {
     "name": "stdout",
     "output_type": "stream",
     "text": [
      "WARNING:tensorflow:From C:\\Python310\\lib\\site-packages\\keras\\src\\backend.py:873: The name tf.get_default_graph is deprecated. Please use tf.compat.v1.get_default_graph instead.\n",
      "\n"
     ]
    }
   ],
   "source": [
    "cnn = tf.keras.models.Sequential()"
   ]
  },
  {
   "cell_type": "code",
   "execution_count": 8,
   "id": "118ca61a",
   "metadata": {},
   "outputs": [],
   "source": [
    "#convolution\n",
    "cnn.add(tf.keras.layers.Conv2D(filters=32,kernel_size=3,activation='relu',input_shape=[64,64,3]))"
   ]
  },
  {
   "cell_type": "code",
   "execution_count": 10,
   "id": "85a9c52e",
   "metadata": {},
   "outputs": [
    {
     "name": "stdout",
     "output_type": "stream",
     "text": [
      "WARNING:tensorflow:From C:\\Python310\\lib\\site-packages\\keras\\src\\layers\\pooling\\max_pooling2d.py:161: The name tf.nn.max_pool is deprecated. Please use tf.nn.max_pool2d instead.\n",
      "\n"
     ]
    }
   ],
   "source": [
    "#pooling\n",
    "cnn.add(tf.keras.layers.MaxPool2D(pool_size=2,strides=2))"
   ]
  },
  {
   "cell_type": "code",
   "execution_count": 11,
   "id": "ce3f5bdf",
   "metadata": {},
   "outputs": [],
   "source": [
    "#second convolutional layer\n",
    "cnn.add(tf.keras.layers.Conv2D(filters=32,kernel_size=3,activation='relu'))\n",
    "cnn.add(tf.keras.layers.MaxPool2D(pool_size=2,strides=2))"
   ]
  },
  {
   "cell_type": "code",
   "execution_count": 12,
   "id": "b3755916",
   "metadata": {},
   "outputs": [],
   "source": [
    "#flattening\n",
    "cnn.add(tf.keras.layers.Flatten())"
   ]
  },
  {
   "cell_type": "code",
   "execution_count": 13,
   "id": "b12f0bd3",
   "metadata": {},
   "outputs": [],
   "source": [
    "#full Connection\n",
    "cnn.add(tf.keras.layers.Dense(units=128,activation='relu'))"
   ]
  },
  {
   "cell_type": "code",
   "execution_count": 14,
   "id": "be447ef2",
   "metadata": {},
   "outputs": [],
   "source": [
    "#output layer\n",
    "cnn.add(tf.keras.layers.Dense(units=1,activation='sigmoid'))"
   ]
  },
  {
   "cell_type": "markdown",
   "id": "85060fa5",
   "metadata": {},
   "source": [
    "# Training the CNN"
   ]
  },
  {
   "cell_type": "code",
   "execution_count": 15,
   "id": "8e019da4",
   "metadata": {},
   "outputs": [
    {
     "name": "stdout",
     "output_type": "stream",
     "text": [
      "WARNING:tensorflow:From C:\\Python310\\lib\\site-packages\\keras\\src\\optimizers\\__init__.py:309: The name tf.train.Optimizer is deprecated. Please use tf.compat.v1.train.Optimizer instead.\n",
      "\n"
     ]
    }
   ],
   "source": [
    "cnn.compile(optimizer='adam',loss='binary_crossentropy',metrics=['accuracy'])"
   ]
  },
  {
   "cell_type": "code",
   "execution_count": 16,
   "id": "56d2c428",
   "metadata": {},
   "outputs": [
    {
     "name": "stdout",
     "output_type": "stream",
     "text": [
      "Epoch 1/25\n",
      "WARNING:tensorflow:From C:\\Python310\\lib\\site-packages\\keras\\src\\utils\\tf_utils.py:492: The name tf.ragged.RaggedTensorValue is deprecated. Please use tf.compat.v1.ragged.RaggedTensorValue instead.\n",
      "\n",
      "WARNING:tensorflow:From C:\\Python310\\lib\\site-packages\\keras\\src\\engine\\base_layer_utils.py:384: The name tf.executing_eagerly_outside_functions is deprecated. Please use tf.compat.v1.executing_eagerly_outside_functions instead.\n",
      "\n",
      "251/251 [==============================] - 53s 199ms/step - loss: 0.6577 - accuracy: 0.6007 - val_loss: 0.6065 - val_accuracy: 0.6841\n",
      "Epoch 2/25\n",
      "251/251 [==============================] - 49s 196ms/step - loss: 0.5932 - accuracy: 0.6804 - val_loss: 0.5510 - val_accuracy: 0.7252\n",
      "Epoch 3/25\n",
      "251/251 [==============================] - 51s 201ms/step - loss: 0.5526 - accuracy: 0.7168 - val_loss: 0.5436 - val_accuracy: 0.7326\n",
      "Epoch 4/25\n",
      "251/251 [==============================] - 47s 188ms/step - loss: 0.5267 - accuracy: 0.7359 - val_loss: 0.4977 - val_accuracy: 0.7657\n",
      "Epoch 5/25\n",
      "251/251 [==============================] - 47s 188ms/step - loss: 0.5011 - accuracy: 0.7539 - val_loss: 0.5180 - val_accuracy: 0.7484\n",
      "Epoch 6/25\n",
      "251/251 [==============================] - 47s 188ms/step - loss: 0.4895 - accuracy: 0.7631 - val_loss: 0.5004 - val_accuracy: 0.7632\n",
      "Epoch 7/25\n",
      "251/251 [==============================] - 47s 189ms/step - loss: 0.4649 - accuracy: 0.7770 - val_loss: 0.4795 - val_accuracy: 0.7692\n",
      "Epoch 8/25\n",
      "251/251 [==============================] - 47s 188ms/step - loss: 0.4538 - accuracy: 0.7870 - val_loss: 0.5324 - val_accuracy: 0.7548\n",
      "Epoch 9/25\n",
      "251/251 [==============================] - 48s 189ms/step - loss: 0.4470 - accuracy: 0.7889 - val_loss: 0.5173 - val_accuracy: 0.7667\n",
      "Epoch 10/25\n",
      "251/251 [==============================] - 48s 191ms/step - loss: 0.4388 - accuracy: 0.7945 - val_loss: 0.4592 - val_accuracy: 0.7830\n",
      "Epoch 11/25\n",
      "251/251 [==============================] - 47s 188ms/step - loss: 0.4293 - accuracy: 0.7963 - val_loss: 0.4506 - val_accuracy: 0.7889\n",
      "Epoch 12/25\n",
      "251/251 [==============================] - 48s 190ms/step - loss: 0.4181 - accuracy: 0.8054 - val_loss: 0.4594 - val_accuracy: 0.7954\n",
      "Epoch 13/25\n",
      "251/251 [==============================] - 47s 187ms/step - loss: 0.4068 - accuracy: 0.8109 - val_loss: 0.4636 - val_accuracy: 0.7825\n",
      "Epoch 14/25\n",
      "251/251 [==============================] - 48s 190ms/step - loss: 0.4002 - accuracy: 0.8214 - val_loss: 0.5133 - val_accuracy: 0.7479\n",
      "Epoch 15/25\n",
      "251/251 [==============================] - 48s 192ms/step - loss: 0.3926 - accuracy: 0.8202 - val_loss: 0.4598 - val_accuracy: 0.7889\n",
      "Epoch 16/25\n",
      "251/251 [==============================] - 48s 192ms/step - loss: 0.3765 - accuracy: 0.8294 - val_loss: 0.4545 - val_accuracy: 0.8023\n",
      "Epoch 17/25\n",
      "251/251 [==============================] - 48s 191ms/step - loss: 0.3584 - accuracy: 0.8360 - val_loss: 0.4519 - val_accuracy: 0.8077\n",
      "Epoch 18/25\n",
      "251/251 [==============================] - 48s 192ms/step - loss: 0.3572 - accuracy: 0.8384 - val_loss: 0.4529 - val_accuracy: 0.8067\n",
      "Epoch 19/25\n",
      "251/251 [==============================] - 49s 194ms/step - loss: 0.3418 - accuracy: 0.8483 - val_loss: 0.4625 - val_accuracy: 0.8131\n",
      "Epoch 20/25\n",
      "251/251 [==============================] - 49s 193ms/step - loss: 0.3462 - accuracy: 0.8491 - val_loss: 0.4326 - val_accuracy: 0.8166\n",
      "Epoch 21/25\n",
      "251/251 [==============================] - 49s 195ms/step - loss: 0.3191 - accuracy: 0.8656 - val_loss: 0.4633 - val_accuracy: 0.7993\n",
      "Epoch 22/25\n",
      "251/251 [==============================] - 49s 194ms/step - loss: 0.3113 - accuracy: 0.8613 - val_loss: 0.4949 - val_accuracy: 0.7845\n",
      "Epoch 23/25\n",
      "251/251 [==============================] - 48s 192ms/step - loss: 0.3052 - accuracy: 0.8712 - val_loss: 0.5419 - val_accuracy: 0.7939\n",
      "Epoch 24/25\n",
      "251/251 [==============================] - 48s 193ms/step - loss: 0.2939 - accuracy: 0.8763 - val_loss: 0.4884 - val_accuracy: 0.7993\n",
      "Epoch 25/25\n",
      "251/251 [==============================] - 51s 203ms/step - loss: 0.2794 - accuracy: 0.8827 - val_loss: 0.4700 - val_accuracy: 0.8003\n"
     ]
    },
    {
     "data": {
      "text/plain": [
       "<keras.src.callbacks.History at 0x1b481650e50>"
      ]
     },
     "execution_count": 16,
     "metadata": {},
     "output_type": "execute_result"
    }
   ],
   "source": [
    "cnn.fit(x=training_set,validation_data=test_set,epochs=25)"
   ]
  },
  {
   "cell_type": "code",
   "execution_count": 23,
   "id": "4f79c9f3",
   "metadata": {},
   "outputs": [
    {
     "name": "stdout",
     "output_type": "stream",
     "text": [
      "1/1 [==============================] - 0s 54ms/step\n",
      "Cat\n"
     ]
    }
   ],
   "source": [
    "import numpy as np\n",
    "from keras.preprocessing import image\n",
    "\n",
    "test_img=image.load_img('test_set/test_set/cats/cat.4018.jpg',target_size=(64,64))\n",
    "test_img=image.img_to_array(test_img)\n",
    "test_img=np.expand_dims(test_img,axis=0)\n",
    "result=cnn.predict(test_img)\n",
    "training_set.class_indices\n",
    "if result[0][0]==1:\n",
    "    print(\"Dog\")\n",
    "else:\n",
    "    print(\"Cat\")"
   ]
  },
  {
   "cell_type": "code",
   "execution_count": null,
   "id": "dd5dbd59",
   "metadata": {},
   "outputs": [],
   "source": []
  }
 ],
 "metadata": {
  "kernelspec": {
   "display_name": "Python 3 (ipykernel)",
   "language": "python",
   "name": "python3"
  },
  "language_info": {
   "codemirror_mode": {
    "name": "ipython",
    "version": 3
   },
   "file_extension": ".py",
   "mimetype": "text/x-python",
   "name": "python",
   "nbconvert_exporter": "python",
   "pygments_lexer": "ipython3",
   "version": "3.10.8"
  }
 },
 "nbformat": 4,
 "nbformat_minor": 5
}
