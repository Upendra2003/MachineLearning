{
 "cells": [
  {
   "cell_type": "code",
   "execution_count": 25,
   "id": "2f42834c",
   "metadata": {},
   "outputs": [],
   "source": [
    "import numpy as np\n",
    "import pandas as pd"
   ]
  },
  {
   "cell_type": "code",
   "execution_count": 32,
   "id": "1005d2da",
   "metadata": {},
   "outputs": [],
   "source": [
    "import requests\n",
    "import json"
   ]
  },
  {
   "cell_type": "markdown",
   "id": "035d6aa2",
   "metadata": {},
   "source": [
    "# Data Acqisition"
   ]
  },
  {
   "cell_type": "code",
   "execution_count": 19,
   "id": "634ff31a",
   "metadata": {},
   "outputs": [
    {
     "data": {
      "text/plain": [
       "'Framed in the 1940s for the double murder of his wife and her lover, upstanding banker Andy Dufresne begins a new life at the Shawshank prison, where he puts his accounting skills to work for an amoral warden. During his long stretch in prison, Dufresne comes to be admired by the other inmates -- including an older prisoner named Red -- for his integrity and unquenchable sense of hope.'"
      ]
     },
     "execution_count": 19,
     "metadata": {},
     "output_type": "execute_result"
    }
   ],
   "source": [
    "data['results'][0]['overview']"
   ]
  },
  {
   "cell_type": "code",
   "execution_count": 38,
   "id": "c18f7257",
   "metadata": {},
   "outputs": [],
   "source": [
    "temp=[]\n",
    "for i in range(0,462):\n",
    "    response=requests.get(f'https://api.themoviedb.org/3/movie/top_rated?api_key=8265bd1679663a7ea12ac168da84d2e8&language=en-US&page={i}')\n",
    "    data=response.json()\n",
    "    \n",
    "    if 'results' in data:\n",
    "        for movie in data['results']:\n",
    "            temp.append((movie['original_title'],movie['overview'],movie['genre_ids']))"
   ]
  },
  {
   "cell_type": "code",
   "execution_count": 40,
   "id": "1b42f8b4",
   "metadata": {},
   "outputs": [],
   "source": [
    "df=pd.DataFrame(temp)"
   ]
  },
  {
   "cell_type": "code",
   "execution_count": 44,
   "id": "3e06a471",
   "metadata": {},
   "outputs": [
    {
     "data": {
      "text/html": [
       "<div>\n",
       "<style scoped>\n",
       "    .dataframe tbody tr th:only-of-type {\n",
       "        vertical-align: middle;\n",
       "    }\n",
       "\n",
       "    .dataframe tbody tr th {\n",
       "        vertical-align: top;\n",
       "    }\n",
       "\n",
       "    .dataframe thead th {\n",
       "        text-align: right;\n",
       "    }\n",
       "</style>\n",
       "<table border=\"1\" class=\"dataframe\">\n",
       "  <thead>\n",
       "    <tr style=\"text-align: right;\">\n",
       "      <th></th>\n",
       "      <th>movie_title</th>\n",
       "      <th>overview</th>\n",
       "      <th>genre</th>\n",
       "    </tr>\n",
       "  </thead>\n",
       "  <tbody>\n",
       "    <tr>\n",
       "      <th>0</th>\n",
       "      <td>The Shawshank Redemption</td>\n",
       "      <td>Framed in the 1940s for the double murder of h...</td>\n",
       "      <td>[18, 80]</td>\n",
       "    </tr>\n",
       "    <tr>\n",
       "      <th>1</th>\n",
       "      <td>The Godfather</td>\n",
       "      <td>Spanning the years 1945 to 1955, a chronicle o...</td>\n",
       "      <td>[18, 80]</td>\n",
       "    </tr>\n",
       "    <tr>\n",
       "      <th>2</th>\n",
       "      <td>The Godfather Part II</td>\n",
       "      <td>In the continuing saga of the Corleone crime f...</td>\n",
       "      <td>[18, 80]</td>\n",
       "    </tr>\n",
       "    <tr>\n",
       "      <th>3</th>\n",
       "      <td>Schindler's List</td>\n",
       "      <td>The true story of how businessman Oskar Schind...</td>\n",
       "      <td>[18, 36, 10752]</td>\n",
       "    </tr>\n",
       "    <tr>\n",
       "      <th>4</th>\n",
       "      <td>千と千尋の神隠し</td>\n",
       "      <td>A young girl, Chihiro, becomes trapped in a st...</td>\n",
       "      <td>[16, 10751, 14]</td>\n",
       "    </tr>\n",
       "  </tbody>\n",
       "</table>\n",
       "</div>"
      ],
      "text/plain": [
       "                movie_title  \\\n",
       "0  The Shawshank Redemption   \n",
       "1             The Godfather   \n",
       "2     The Godfather Part II   \n",
       "3          Schindler's List   \n",
       "4                  千と千尋の神隠し   \n",
       "\n",
       "                                            overview            genre  \n",
       "0  Framed in the 1940s for the double murder of h...         [18, 80]  \n",
       "1  Spanning the years 1945 to 1955, a chronicle o...         [18, 80]  \n",
       "2  In the continuing saga of the Corleone crime f...         [18, 80]  \n",
       "3  The true story of how businessman Oskar Schind...  [18, 36, 10752]  \n",
       "4  A young girl, Chihiro, becomes trapped in a st...  [16, 10751, 14]  "
      ]
     },
     "execution_count": 44,
     "metadata": {},
     "output_type": "execute_result"
    }
   ],
   "source": [
    "df.head()"
   ]
  },
  {
   "cell_type": "code",
   "execution_count": 42,
   "id": "7da0e617",
   "metadata": {},
   "outputs": [],
   "source": [
    "df.columns=['movie_title','overview','genre']"
   ]
  },
  {
   "cell_type": "code",
   "execution_count": 47,
   "id": "4a6c90ee",
   "metadata": {},
   "outputs": [],
   "source": [
    "g_response=requests.get('https://api.themoviedb.org/3/genre/movie/list?api_key=8265bd1679663a7ea12ac168da84d2e8&language=en-US')\n",
    "g_data=g_response.json()"
   ]
  },
  {
   "cell_type": "code",
   "execution_count": 60,
   "id": "31da8a42",
   "metadata": {},
   "outputs": [],
   "source": [
    "genres=g_data['genres']"
   ]
  },
  {
   "cell_type": "code",
   "execution_count": 61,
   "id": "53230180",
   "metadata": {},
   "outputs": [],
   "source": [
    "def get_genre(genre_ids):\n",
    "    genre_names=[genre['name'] for genre in genres if genre['id'] in genre_ids]\n",
    "    return genre_names"
   ]
  },
  {
   "cell_type": "code",
   "execution_count": 62,
   "id": "0ec5a406",
   "metadata": {},
   "outputs": [],
   "source": [
    "df['genre']=df['genre'].apply(get_genre)"
   ]
  },
  {
   "cell_type": "code",
   "execution_count": 70,
   "id": "11c4f802",
   "metadata": {},
   "outputs": [],
   "source": [
    "df.to_csv('movies_overview.csv')"
   ]
  },
  {
   "cell_type": "markdown",
   "id": "5840a0f2",
   "metadata": {},
   "source": [
    "# Text Preprocessing"
   ]
  },
  {
   "cell_type": "code",
   "execution_count": 79,
   "id": "d7a45ca8",
   "metadata": {},
   "outputs": [
    {
     "data": {
      "text/plain": [
       "'framed in the 1940s for the double murder of his wife and her lover upstanding banker andy dufresne begins a new life at the shawshank prison where he puts his accounting skills to work for an amoral warden during his long stretch in prison dufresne comes to be admired by the other inmates  including an older prisoner named red  for his integrity and unquenchable sense of hope'"
      ]
     },
     "execution_count": 79,
     "metadata": {},
     "output_type": "execute_result"
    }
   ],
   "source": [
    "df['overview'][0]"
   ]
  },
  {
   "cell_type": "markdown",
   "id": "d9671428",
   "metadata": {},
   "source": [
    "- converting the overviw to lower case in order to avoid wastage of storage"
   ]
  },
  {
   "cell_type": "code",
   "execution_count": 71,
   "id": "d9ac43df",
   "metadata": {},
   "outputs": [],
   "source": [
    "df['overview']=df['overview'].apply(lambda x:x.lower())"
   ]
  },
  {
   "cell_type": "markdown",
   "id": "f10acffd",
   "metadata": {},
   "source": [
    "- As there are no html tags we can skip the removal of html tags step"
   ]
  },
  {
   "cell_type": "markdown",
   "id": "20a9c1c5",
   "metadata": {},
   "source": [
    "- As there are no urls we can skip"
   ]
  },
  {
   "cell_type": "markdown",
   "id": "6fc1a8fc",
   "metadata": {},
   "source": [
    "- Remove the puncuations\n",
    "-- we can use regular expression for this"
   ]
  },
  {
   "cell_type": "code",
   "execution_count": 73,
   "id": "0607921c",
   "metadata": {},
   "outputs": [],
   "source": [
    "import string\n",
    "exclude=string.punctuation"
   ]
  },
  {
   "cell_type": "code",
   "execution_count": 74,
   "id": "06193da9",
   "metadata": {},
   "outputs": [
    {
     "data": {
      "text/plain": [
       "'!\"#$%&\\'()*+,-./:;<=>?@[\\\\]^_`{|}~'"
      ]
     },
     "execution_count": 74,
     "metadata": {},
     "output_type": "execute_result"
    }
   ],
   "source": [
    "exclude"
   ]
  },
  {
   "cell_type": "code",
   "execution_count": 75,
   "id": "ae62ccfc",
   "metadata": {},
   "outputs": [],
   "source": [
    "def remove_punc(text):\n",
    "    return text.translate(str.maketrans('','',exclude))"
   ]
  },
  {
   "cell_type": "code",
   "execution_count": 76,
   "id": "70f1b2fb",
   "metadata": {},
   "outputs": [],
   "source": [
    "df['overview']=df['overview'].apply(remove_punc)"
   ]
  },
  {
   "cell_type": "markdown",
   "id": "74427076",
   "metadata": {},
   "source": [
    "- In the data there are no spelling errors i think"
   ]
  },
  {
   "cell_type": "code",
   "execution_count": 82,
   "id": "a05bed80",
   "metadata": {},
   "outputs": [],
   "source": [
    "from textblob import TextBlob"
   ]
  },
  {
   "cell_type": "code",
   "execution_count": 81,
   "id": "56c19a30",
   "metadata": {},
   "outputs": [
    {
     "name": "stdout",
     "output_type": "stream",
     "text": [
      "Collecting TextBlob\n",
      "  Downloading textblob-0.18.0.post0-py3-none-any.whl (626 kB)\n",
      "     ------------------------------------ 626.3/626.3 kB 876.4 kB/s eta 0:00:00\n",
      "Requirement already satisfied: nltk>=3.8 in c:\\python310\\lib\\site-packages (from TextBlob) (3.8.1)\n",
      "Requirement already satisfied: joblib in c:\\python310\\lib\\site-packages (from nltk>=3.8->TextBlob) (1.3.2)\n",
      "Requirement already satisfied: click in c:\\python310\\lib\\site-packages (from nltk>=3.8->TextBlob) (8.1.3)\n",
      "Requirement already satisfied: regex>=2021.8.3 in c:\\python310\\lib\\site-packages (from nltk>=3.8->TextBlob) (2023.12.25)\n",
      "Requirement already satisfied: tqdm in c:\\python310\\lib\\site-packages (from nltk>=3.8->TextBlob) (4.66.2)\n",
      "Requirement already satisfied: colorama in c:\\python310\\lib\\site-packages (from click->nltk>=3.8->TextBlob) (0.4.6)\n",
      "Installing collected packages: TextBlob\n",
      "Successfully installed TextBlob-0.18.0.post0\n"
     ]
    },
    {
     "name": "stderr",
     "output_type": "stream",
     "text": [
      "WARNING: Ignoring invalid distribution -p (c:\\python310\\lib\\site-packages)\n",
      "WARNING: Ignoring invalid distribution -p (c:\\python310\\lib\\site-packages)\n",
      "WARNING: Ignoring invalid distribution -ip (c:\\python310\\lib\\site-packages)\n",
      "WARNING: Ignoring invalid distribution - (c:\\python310\\lib\\site-packages)\n",
      "WARNING: Ignoring invalid distribution -p (c:\\python310\\lib\\site-packages)\n",
      "WARNING: Ignoring invalid distribution -p (c:\\python310\\lib\\site-packages)\n",
      "WARNING: Ignoring invalid distribution -ip (c:\\python310\\lib\\site-packages)\n",
      "WARNING: Ignoring invalid distribution - (c:\\python310\\lib\\site-packages)\n",
      "WARNING: Ignoring invalid distribution -p (c:\\python310\\lib\\site-packages)\n",
      "WARNING: Ignoring invalid distribution -p (c:\\python310\\lib\\site-packages)\n",
      "WARNING: Ignoring invalid distribution -ip (c:\\python310\\lib\\site-packages)\n",
      "WARNING: Ignoring invalid distribution - (c:\\python310\\lib\\site-packages)\n",
      "WARNING: Ignoring invalid distribution -p (c:\\python310\\lib\\site-packages)\n",
      "WARNING: Ignoring invalid distribution -p (c:\\python310\\lib\\site-packages)\n",
      "WARNING: Ignoring invalid distribution -ip (c:\\python310\\lib\\site-packages)\n",
      "WARNING: Ignoring invalid distribution - (c:\\python310\\lib\\site-packages)\n",
      "WARNING: Ignoring invalid distribution -p (c:\\python310\\lib\\site-packages)\n",
      "WARNING: Ignoring invalid distribution -p (c:\\python310\\lib\\site-packages)\n",
      "WARNING: Ignoring invalid distribution -ip (c:\\python310\\lib\\site-packages)\n",
      "WARNING: Ignoring invalid distribution - (c:\\python310\\lib\\site-packages)\n",
      "WARNING: Ignoring invalid distribution -p (c:\\python310\\lib\\site-packages)\n",
      "WARNING: Ignoring invalid distribution -p (c:\\python310\\lib\\site-packages)\n",
      "WARNING: Ignoring invalid distribution -ip (c:\\python310\\lib\\site-packages)\n",
      "WARNING: Ignoring invalid distribution - (c:\\python310\\lib\\site-packages)\n",
      "WARNING: Ignoring invalid distribution -p (c:\\python310\\lib\\site-packages)\n",
      "WARNING: Ignoring invalid distribution -p (c:\\python310\\lib\\site-packages)\n",
      "WARNING: Ignoring invalid distribution -ip (c:\\python310\\lib\\site-packages)\n",
      "WARNING: Ignoring invalid distribution - (c:\\python310\\lib\\site-packages)\n"
     ]
    }
   ],
   "source": [
    "!pip install TextBlob"
   ]
  },
  {
   "cell_type": "code",
   "execution_count": null,
   "id": "48c90828",
   "metadata": {},
   "outputs": [],
   "source": []
  }
 ],
 "metadata": {
  "kernelspec": {
   "display_name": "Python 3 (ipykernel)",
   "language": "python",
   "name": "python3"
  },
  "language_info": {
   "codemirror_mode": {
    "name": "ipython",
    "version": 3
   },
   "file_extension": ".py",
   "mimetype": "text/x-python",
   "name": "python",
   "nbconvert_exporter": "python",
   "pygments_lexer": "ipython3",
   "version": "3.10.8"
  }
 },
 "nbformat": 4,
 "nbformat_minor": 5
}
