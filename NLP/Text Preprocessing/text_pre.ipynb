{
 "cells": [
  {
   "cell_type": "code",
   "execution_count": 2,
   "id": "2f42834c",
   "metadata": {},
   "outputs": [],
   "source": [
    "import numpy as np\n",
    "import pandas as pd"
   ]
  },
  {
   "cell_type": "code",
   "execution_count": 32,
   "id": "1005d2da",
   "metadata": {},
   "outputs": [],
   "source": [
    "import requests\n",
    "import json"
   ]
  },
  {
   "cell_type": "markdown",
   "id": "035d6aa2",
   "metadata": {},
   "source": [
    "# Data Acqisition"
   ]
  },
  {
   "cell_type": "code",
   "execution_count": 19,
   "id": "634ff31a",
   "metadata": {},
   "outputs": [
    {
     "data": {
      "text/plain": [
       "'Framed in the 1940s for the double murder of his wife and her lover, upstanding banker Andy Dufresne begins a new life at the Shawshank prison, where he puts his accounting skills to work for an amoral warden. During his long stretch in prison, Dufresne comes to be admired by the other inmates -- including an older prisoner named Red -- for his integrity and unquenchable sense of hope.'"
      ]
     },
     "execution_count": 19,
     "metadata": {},
     "output_type": "execute_result"
    }
   ],
   "source": [
    "data['results'][0]['overview']"
   ]
  },
  {
   "cell_type": "code",
   "execution_count": 38,
   "id": "c18f7257",
   "metadata": {},
   "outputs": [],
   "source": [
    "temp=[]\n",
    "for i in range(0,462):\n",
    "    response=requests.get(f'https://api.themoviedb.org/3/movie/top_rated?api_key=8265bd1679663a7ea12ac168da84d2e8&language=en-US&page={i}')\n",
    "    data=response.json()\n",
    "    \n",
    "    if 'results' in data:\n",
    "        for movie in data['results']:\n",
    "            temp.append((movie['original_title'],movie['overview'],movie['genre_ids']))"
   ]
  },
  {
   "cell_type": "code",
   "execution_count": 40,
   "id": "1b42f8b4",
   "metadata": {},
   "outputs": [],
   "source": [
    "df=pd.DataFrame(temp)"
   ]
  },
  {
   "cell_type": "code",
   "execution_count": 44,
   "id": "3e06a471",
   "metadata": {},
   "outputs": [
    {
     "data": {
      "text/html": [
       "<div>\n",
       "<style scoped>\n",
       "    .dataframe tbody tr th:only-of-type {\n",
       "        vertical-align: middle;\n",
       "    }\n",
       "\n",
       "    .dataframe tbody tr th {\n",
       "        vertical-align: top;\n",
       "    }\n",
       "\n",
       "    .dataframe thead th {\n",
       "        text-align: right;\n",
       "    }\n",
       "</style>\n",
       "<table border=\"1\" class=\"dataframe\">\n",
       "  <thead>\n",
       "    <tr style=\"text-align: right;\">\n",
       "      <th></th>\n",
       "      <th>movie_title</th>\n",
       "      <th>overview</th>\n",
       "      <th>genre</th>\n",
       "    </tr>\n",
       "  </thead>\n",
       "  <tbody>\n",
       "    <tr>\n",
       "      <th>0</th>\n",
       "      <td>The Shawshank Redemption</td>\n",
       "      <td>Framed in the 1940s for the double murder of h...</td>\n",
       "      <td>[18, 80]</td>\n",
       "    </tr>\n",
       "    <tr>\n",
       "      <th>1</th>\n",
       "      <td>The Godfather</td>\n",
       "      <td>Spanning the years 1945 to 1955, a chronicle o...</td>\n",
       "      <td>[18, 80]</td>\n",
       "    </tr>\n",
       "    <tr>\n",
       "      <th>2</th>\n",
       "      <td>The Godfather Part II</td>\n",
       "      <td>In the continuing saga of the Corleone crime f...</td>\n",
       "      <td>[18, 80]</td>\n",
       "    </tr>\n",
       "    <tr>\n",
       "      <th>3</th>\n",
       "      <td>Schindler's List</td>\n",
       "      <td>The true story of how businessman Oskar Schind...</td>\n",
       "      <td>[18, 36, 10752]</td>\n",
       "    </tr>\n",
       "    <tr>\n",
       "      <th>4</th>\n",
       "      <td>千と千尋の神隠し</td>\n",
       "      <td>A young girl, Chihiro, becomes trapped in a st...</td>\n",
       "      <td>[16, 10751, 14]</td>\n",
       "    </tr>\n",
       "  </tbody>\n",
       "</table>\n",
       "</div>"
      ],
      "text/plain": [
       "                movie_title  \\\n",
       "0  The Shawshank Redemption   \n",
       "1             The Godfather   \n",
       "2     The Godfather Part II   \n",
       "3          Schindler's List   \n",
       "4                  千と千尋の神隠し   \n",
       "\n",
       "                                            overview            genre  \n",
       "0  Framed in the 1940s for the double murder of h...         [18, 80]  \n",
       "1  Spanning the years 1945 to 1955, a chronicle o...         [18, 80]  \n",
       "2  In the continuing saga of the Corleone crime f...         [18, 80]  \n",
       "3  The true story of how businessman Oskar Schind...  [18, 36, 10752]  \n",
       "4  A young girl, Chihiro, becomes trapped in a st...  [16, 10751, 14]  "
      ]
     },
     "execution_count": 44,
     "metadata": {},
     "output_type": "execute_result"
    }
   ],
   "source": [
    "df.head()"
   ]
  },
  {
   "cell_type": "code",
   "execution_count": 42,
   "id": "7da0e617",
   "metadata": {},
   "outputs": [],
   "source": [
    "df.columns=['movie_title','overview','genre']"
   ]
  },
  {
   "cell_type": "code",
   "execution_count": 47,
   "id": "4a6c90ee",
   "metadata": {},
   "outputs": [],
   "source": [
    "g_response=requests.get('https://api.themoviedb.org/3/genre/movie/list?api_key=8265bd1679663a7ea12ac168da84d2e8&language=en-US')\n",
    "g_data=g_response.json()"
   ]
  },
  {
   "cell_type": "code",
   "execution_count": 60,
   "id": "31da8a42",
   "metadata": {},
   "outputs": [],
   "source": [
    "genres=g_data['genres']"
   ]
  },
  {
   "cell_type": "code",
   "execution_count": 61,
   "id": "53230180",
   "metadata": {},
   "outputs": [],
   "source": [
    "def get_genre(genre_ids):\n",
    "    genre_names=[genre['name'] for genre in genres if genre['id'] in genre_ids]\n",
    "    return genre_names"
   ]
  },
  {
   "cell_type": "code",
   "execution_count": 62,
   "id": "0ec5a406",
   "metadata": {},
   "outputs": [],
   "source": [
    "df['genre']=df['genre'].apply(get_genre)"
   ]
  },
  {
   "cell_type": "code",
   "execution_count": 70,
   "id": "11c4f802",
   "metadata": {},
   "outputs": [],
   "source": [
    "df.to_csv('movies_overview.csv')"
   ]
  },
  {
   "cell_type": "markdown",
   "id": "5840a0f2",
   "metadata": {},
   "source": [
    "# Text Preprocessing"
   ]
  },
  {
   "cell_type": "code",
   "execution_count": 3,
   "id": "cc98cb69",
   "metadata": {},
   "outputs": [],
   "source": [
    "df=pd.read_csv('movies_overview.csv')"
   ]
  },
  {
   "cell_type": "code",
   "execution_count": 4,
   "id": "0cce735d",
   "metadata": {},
   "outputs": [],
   "source": [
    "df=df.dropna()"
   ]
  },
  {
   "cell_type": "code",
   "execution_count": 5,
   "id": "d7a45ca8",
   "metadata": {},
   "outputs": [
    {
     "data": {
      "text/plain": [
       "'Framed in the 1940s for the double murder of his wife and her lover, upstanding banker Andy Dufresne begins a new life at the Shawshank prison, where he puts his accounting skills to work for an amoral warden. During his long stretch in prison, Dufresne comes to be admired by the other inmates -- including an older prisoner named Red -- for his integrity and unquenchable sense of hope.'"
      ]
     },
     "execution_count": 5,
     "metadata": {},
     "output_type": "execute_result"
    }
   ],
   "source": [
    "df['overview'][0]"
   ]
  },
  {
   "cell_type": "markdown",
   "id": "d9671428",
   "metadata": {},
   "source": [
    "- converting the overviw to lower case in order to avoid wastage of storage"
   ]
  },
  {
   "cell_type": "code",
   "execution_count": 6,
   "id": "d9ac43df",
   "metadata": {},
   "outputs": [],
   "source": [
    "df['overview']=df['overview'].apply(lambda x:x.lower())"
   ]
  },
  {
   "cell_type": "markdown",
   "id": "f10acffd",
   "metadata": {},
   "source": [
    "- As there are no html tags we can skip the removal of html tags step"
   ]
  },
  {
   "cell_type": "markdown",
   "id": "20a9c1c5",
   "metadata": {},
   "source": [
    "- As there are no urls we can skip"
   ]
  },
  {
   "cell_type": "markdown",
   "id": "6fc1a8fc",
   "metadata": {},
   "source": [
    "- Remove the puncuations\n",
    "-- we can use regular expression for this"
   ]
  },
  {
   "cell_type": "code",
   "execution_count": 7,
   "id": "0607921c",
   "metadata": {},
   "outputs": [],
   "source": [
    "import string\n",
    "exclude=string.punctuation"
   ]
  },
  {
   "cell_type": "code",
   "execution_count": 8,
   "id": "06193da9",
   "metadata": {},
   "outputs": [
    {
     "data": {
      "text/plain": [
       "'!\"#$%&\\'()*+,-./:;<=>?@[\\\\]^_`{|}~'"
      ]
     },
     "execution_count": 8,
     "metadata": {},
     "output_type": "execute_result"
    }
   ],
   "source": [
    "exclude"
   ]
  },
  {
   "cell_type": "code",
   "execution_count": 9,
   "id": "ae62ccfc",
   "metadata": {},
   "outputs": [],
   "source": [
    "def remove_punc(text):\n",
    "    return text.translate(str.maketrans('','',exclude))"
   ]
  },
  {
   "cell_type": "code",
   "execution_count": 10,
   "id": "70f1b2fb",
   "metadata": {},
   "outputs": [],
   "source": [
    "df['overview']=df['overview'].apply(remove_punc)"
   ]
  },
  {
   "cell_type": "markdown",
   "id": "74427076",
   "metadata": {},
   "source": [
    "- In the data there are no spelling errors i think"
   ]
  },
  {
   "cell_type": "markdown",
   "id": "f7897b14",
   "metadata": {},
   "source": [
    "- Remove stop words"
   ]
  },
  {
   "cell_type": "code",
   "execution_count": 11,
   "id": "80a036f3",
   "metadata": {},
   "outputs": [],
   "source": [
    "from nltk.corpus import stopwords\n",
    "stopwords=stopwords.words('english')"
   ]
  },
  {
   "cell_type": "code",
   "execution_count": 12,
   "id": "7ad3498e",
   "metadata": {},
   "outputs": [],
   "source": [
    "def remove_stopwords(text):\n",
    "    new_text=[]\n",
    "    for word in text.split():\n",
    "        if word in stopwords:\n",
    "            new_text.append('')\n",
    "        else:\n",
    "            new_text.append(word)\n",
    "    return ' '.join(new_text)"
   ]
  },
  {
   "cell_type": "code",
   "execution_count": 13,
   "id": "05e545ae",
   "metadata": {},
   "outputs": [],
   "source": [
    "df['overview']=df['overview'].apply(remove_stopwords)"
   ]
  },
  {
   "cell_type": "markdown",
   "id": "22f98f55",
   "metadata": {},
   "source": [
    "- we dont have any emojis in the data so no emoji handling"
   ]
  },
  {
   "cell_type": "markdown",
   "id": "96f07aee",
   "metadata": {},
   "source": [
    "- Tokenize the sentence"
   ]
  },
  {
   "cell_type": "markdown",
   "id": "22d21c13",
   "metadata": {},
   "source": [
    "we can do this using nltk and spacy library. Spacy lib gives accurate tokenization"
   ]
  },
  {
   "cell_type": "code",
   "execution_count": 14,
   "id": "a51af21c",
   "metadata": {},
   "outputs": [
    {
     "name": "stderr",
     "output_type": "stream",
     "text": [
      "[nltk_data] Downloading package punkt to\n",
      "[nltk_data]     C:\\Users\\upend\\AppData\\Roaming\\nltk_data...\n",
      "[nltk_data]   Package punkt is already up-to-date!\n"
     ]
    },
    {
     "data": {
      "text/plain": [
       "True"
      ]
     },
     "execution_count": 14,
     "metadata": {},
     "output_type": "execute_result"
    }
   ],
   "source": [
    "import nltk\n",
    "from nltk.tokenize import word_tokenize\n",
    "nltk.download('punkt')"
   ]
  },
  {
   "cell_type": "code",
   "execution_count": 15,
   "id": "f300fdf1",
   "metadata": {},
   "outputs": [
    {
     "data": {
      "text/plain": [
       "['hello',\n",
       " '!',\n",
       " 'all',\n",
       " 'this',\n",
       " 'is',\n",
       " 'upendr',\n",
       " ',',\n",
       " 'from',\n",
       " 'cse',\n",
       " 'upendra',\n",
       " '@',\n",
       " 'gmail.com']"
      ]
     },
     "execution_count": 15,
     "metadata": {},
     "output_type": "execute_result"
    }
   ],
   "source": [
    "sent1='hello! all this is upendr, from cse upendra@gmail.com'\n",
    "# sent1=remove_punc(sent1)\n",
    "word_tokenize(sent1)"
   ]
  },
  {
   "cell_type": "code",
   "execution_count": 16,
   "id": "a5e2b931",
   "metadata": {},
   "outputs": [],
   "source": [
    "import spacy"
   ]
  },
  {
   "cell_type": "code",
   "execution_count": 17,
   "id": "cf55e467",
   "metadata": {},
   "outputs": [],
   "source": [
    "nlp=spacy.load('en_core_web_sm')"
   ]
  },
  {
   "cell_type": "code",
   "execution_count": 18,
   "id": "fa0a9c5d",
   "metadata": {},
   "outputs": [],
   "source": [
    "doc1=nlp(sent1)"
   ]
  },
  {
   "cell_type": "code",
   "execution_count": 19,
   "id": "b4e3e889",
   "metadata": {},
   "outputs": [
    {
     "name": "stdout",
     "output_type": "stream",
     "text": [
      "hello\n",
      "!\n",
      "all\n",
      "this\n",
      "is\n",
      "upendr\n",
      ",\n",
      "from\n",
      "cse\n",
      "upendra@gmail.com\n"
     ]
    }
   ],
   "source": [
    "for token in doc1:\n",
    "    print(token)"
   ]
  },
  {
   "cell_type": "code",
   "execution_count": 30,
   "id": "1e743f22",
   "metadata": {},
   "outputs": [],
   "source": [
    "def tokenize(text):\n",
    "    doc=nlp(text)\n",
    "    new_lst=[]\n",
    "    for token in doc:\n",
    "        new_lst.append(token.text)\n",
    "    return ' '.join(new_lst)"
   ]
  },
  {
   "cell_type": "code",
   "execution_count": 31,
   "id": "f1f7c841",
   "metadata": {},
   "outputs": [],
   "source": [
    "df['overview']=df['overview'].apply(tokenize)"
   ]
  },
  {
   "cell_type": "markdown",
   "id": "3a76996c",
   "metadata": {},
   "source": [
    "- apply stemming"
   ]
  },
  {
   "cell_type": "code",
   "execution_count": 32,
   "id": "194c8f00",
   "metadata": {},
   "outputs": [],
   "source": [
    "from nltk.stem.porter import PorterStemmer\n",
    "ps=PorterStemmer()"
   ]
  },
  {
   "cell_type": "code",
   "execution_count": 33,
   "id": "a80747b5",
   "metadata": {},
   "outputs": [],
   "source": [
    "def stem_words(text):\n",
    "    new_lst=[]\n",
    "    for word in text.split():\n",
    "        new_lst.append(ps.stem(word))\n",
    "    return ' '.join(new_lst)"
   ]
  },
  {
   "cell_type": "code",
   "execution_count": 34,
   "id": "6ee5fb95",
   "metadata": {},
   "outputs": [
    {
     "data": {
      "text/plain": [
       "'pta conserv high school indiana ban samesex coupl attend annual prom gang flamboy broadway star tri boost imag show support two lesbian student'"
      ]
     },
     "execution_count": 34,
     "metadata": {},
     "output_type": "execute_result"
    }
   ],
   "source": [
    "stem_words('pta   conservative high school  indiana bans samesex couples  attending  annual prom  gang  flamboyant broadway stars try  boost  image  showing   support two lesbian students')"
   ]
  },
  {
   "cell_type": "code",
   "execution_count": 35,
   "id": "9b183883",
   "metadata": {},
   "outputs": [],
   "source": [
    "df['overview']=df['overview'].apply(stem_words)"
   ]
  },
  {
   "cell_type": "code",
   "execution_count": 37,
   "id": "037fb7e2",
   "metadata": {},
   "outputs": [
    {
     "data": {
      "text/plain": [
       "'frame 1940 doubl murder wife lover upstand banker andi dufresn begin new life shawshank prison put account skill work amor warden long stretch prison dufresn come admir inmat includ older prison name red integr unquench sens hope'"
      ]
     },
     "execution_count": 37,
     "metadata": {},
     "output_type": "execute_result"
    }
   ],
   "source": [
    "df['overview'][0]"
   ]
  },
  {
   "cell_type": "code",
   "execution_count": 38,
   "id": "b0618715",
   "metadata": {},
   "outputs": [],
   "source": [
    "df.to_csv('preprocessed_movie_data.csv')"
   ]
  },
  {
   "cell_type": "code",
   "execution_count": null,
   "id": "26fca046",
   "metadata": {},
   "outputs": [],
   "source": []
  }
 ],
 "metadata": {
  "kernelspec": {
   "display_name": "Python 3 (ipykernel)",
   "language": "python",
   "name": "python3"
  },
  "language_info": {
   "codemirror_mode": {
    "name": "ipython",
    "version": 3
   },
   "file_extension": ".py",
   "mimetype": "text/x-python",
   "name": "python",
   "nbconvert_exporter": "python",
   "pygments_lexer": "ipython3",
   "version": "3.10.8"
  }
 },
 "nbformat": 4,
 "nbformat_minor": 5
}
