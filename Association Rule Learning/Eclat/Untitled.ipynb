{
 "cells": [
  {
   "cell_type": "code",
   "execution_count": 1,
   "id": "2eaa71c8",
   "metadata": {},
   "outputs": [],
   "source": [
    "import pandas as pd\n",
    "import random\n",
    "\n",
    "# Generate synthetic data\n",
    "data = {\n",
    "    'symptoms': [\n",
    "        'Fever, Headache',\n",
    "        'Cough, Shortness of breath',\n",
    "        'Fatigue, Muscle pain',\n",
    "        'Sore throat, Loss of taste',\n",
    "        'Nausea, Vomiting',\n",
    "        # Add more symptoms as needed\n",
    "    ],\n",
    "    'disease': [\n",
    "        'Flu',\n",
    "        'COVID-19',\n",
    "        'Common Cold',\n",
    "        'COVID-19',\n",
    "        'Food Poisoning',\n",
    "        # Add more diseases corresponding to symptoms\n",
    "    ],\n",
    "    'medication': [\n",
    "        'Antiviral, Pain reliever',\n",
    "        'Quarantine, Symptomatic treatment',\n",
    "        'Rest, Fluids',\n",
    "        'Quarantine, Symptomatic treatment',\n",
    "        'Hydration, Rest',\n",
    "        # Add more medications as needed\n",
    "    ],\n",
    "}\n",
    "\n",
    "# Create DataFrame\n",
    "df = pd.DataFrame(data)\n",
    "\n",
    "# Save to CSV file\n",
    "df.to_csv('medical_dataset.csv', index=False)\n"
   ]
  },
  {
   "cell_type": "code",
   "execution_count": 2,
   "id": "a4948e3e",
   "metadata": {},
   "outputs": [
    {
     "data": {
      "text/html": [
       "<div>\n",
       "<style scoped>\n",
       "    .dataframe tbody tr th:only-of-type {\n",
       "        vertical-align: middle;\n",
       "    }\n",
       "\n",
       "    .dataframe tbody tr th {\n",
       "        vertical-align: top;\n",
       "    }\n",
       "\n",
       "    .dataframe thead th {\n",
       "        text-align: right;\n",
       "    }\n",
       "</style>\n",
       "<table border=\"1\" class=\"dataframe\">\n",
       "  <thead>\n",
       "    <tr style=\"text-align: right;\">\n",
       "      <th></th>\n",
       "      <th>symptoms</th>\n",
       "      <th>disease</th>\n",
       "      <th>medication</th>\n",
       "    </tr>\n",
       "  </thead>\n",
       "  <tbody>\n",
       "    <tr>\n",
       "      <th>0</th>\n",
       "      <td>Fever, Headache</td>\n",
       "      <td>Flu</td>\n",
       "      <td>Antiviral, Pain reliever</td>\n",
       "    </tr>\n",
       "    <tr>\n",
       "      <th>1</th>\n",
       "      <td>Cough, Shortness of breath</td>\n",
       "      <td>COVID-19</td>\n",
       "      <td>Quarantine, Symptomatic treatment</td>\n",
       "    </tr>\n",
       "    <tr>\n",
       "      <th>2</th>\n",
       "      <td>Fatigue, Muscle pain</td>\n",
       "      <td>Common Cold</td>\n",
       "      <td>Rest, Fluids</td>\n",
       "    </tr>\n",
       "    <tr>\n",
       "      <th>3</th>\n",
       "      <td>Sore throat, Loss of taste</td>\n",
       "      <td>COVID-19</td>\n",
       "      <td>Quarantine, Symptomatic treatment</td>\n",
       "    </tr>\n",
       "    <tr>\n",
       "      <th>4</th>\n",
       "      <td>Nausea, Vomiting</td>\n",
       "      <td>Food Poisoning</td>\n",
       "      <td>Hydration, Rest</td>\n",
       "    </tr>\n",
       "  </tbody>\n",
       "</table>\n",
       "</div>"
      ],
      "text/plain": [
       "                     symptoms         disease  \\\n",
       "0             Fever, Headache             Flu   \n",
       "1  Cough, Shortness of breath        COVID-19   \n",
       "2        Fatigue, Muscle pain     Common Cold   \n",
       "3  Sore throat, Loss of taste        COVID-19   \n",
       "4            Nausea, Vomiting  Food Poisoning   \n",
       "\n",
       "                          medication  \n",
       "0           Antiviral, Pain reliever  \n",
       "1  Quarantine, Symptomatic treatment  \n",
       "2                       Rest, Fluids  \n",
       "3  Quarantine, Symptomatic treatment  \n",
       "4                    Hydration, Rest  "
      ]
     },
     "execution_count": 2,
     "metadata": {},
     "output_type": "execute_result"
    }
   ],
   "source": [
    "df"
   ]
  },
  {
   "cell_type": "code",
   "execution_count": 3,
   "id": "b900a8fa",
   "metadata": {},
   "outputs": [
    {
     "name": "stdout",
     "output_type": "stream",
     "text": [
      "Model Accuracy: 1.0\n"
     ]
    },
    {
     "data": {
      "text/plain": [
       "['medical_symptom_predictor_model.joblib']"
      ]
     },
     "execution_count": 3,
     "metadata": {},
     "output_type": "execute_result"
    }
   ],
   "source": [
    "# Assuming you have a Pandas DataFrame named 'df' with columns 'symptoms', 'disease', and 'medication'\n",
    "\n",
    "from sklearn.model_selection import train_test_split\n",
    "from sklearn.ensemble import RandomForestClassifier\n",
    "from sklearn.metrics import accuracy_score\n",
    "from sklearn.feature_extraction.text import CountVectorizer\n",
    "\n",
    "# Data Preprocessing\n",
    "X = df['symptoms']\n",
    "y = df['disease']\n",
    "\n",
    "vectorizer = CountVectorizer()\n",
    "X = vectorizer.fit_transform(X)\n",
    "\n",
    "X_train, X_test, y_train, y_test = train_test_split(X, y, test_size=0.2, random_state=42)\n",
    "\n",
    "# Model Training\n",
    "model = RandomForestClassifier()\n",
    "model.fit(X_train, y_train)\n",
    "\n",
    "# Model Evaluation\n",
    "y_pred = model.predict(X_test)\n",
    "accuracy = accuracy_score(y_test, y_pred)\n",
    "print(f\"Model Accuracy: {accuracy}\")\n",
    "\n",
    "# Save the trained model for later use\n",
    "import joblib\n",
    "joblib.dump(model, 'medical_symptom_predictor_model.joblib')\n"
   ]
  },
  {
   "cell_type": "code",
   "execution_count": 9,
   "id": "02776621",
   "metadata": {},
   "outputs": [
    {
     "data": {
      "text/plain": [
       "array(['Flu'], dtype=object)"
      ]
     },
     "execution_count": 9,
     "metadata": {},
     "output_type": "execute_result"
    }
   ],
   "source": [
    "model.predict(vectorizer.transform(['Itching']))"
   ]
  },
  {
   "cell_type": "code",
   "execution_count": 10,
   "id": "0b5e5e09",
   "metadata": {},
   "outputs": [],
   "source": [
    "import matplotlib.pyplot as plt\n"
   ]
  },
  {
   "cell_type": "code",
   "execution_count": 21,
   "id": "0923646d",
   "metadata": {},
   "outputs": [
    {
     "data": {
      "text/plain": [
       "<5x15 sparse matrix of type '<class 'numpy.int64'>'\n",
       "\twith 16 stored elements in Compressed Sparse Row format>"
      ]
     },
     "execution_count": 21,
     "metadata": {},
     "output_type": "execute_result"
    }
   ],
   "source": [
    "X"
   ]
  },
  {
   "cell_type": "code",
   "execution_count": null,
   "id": "222bc508",
   "metadata": {},
   "outputs": [],
   "source": []
  }
 ],
 "metadata": {
  "kernelspec": {
   "display_name": "Python 3 (ipykernel)",
   "language": "python",
   "name": "python3"
  },
  "language_info": {
   "codemirror_mode": {
    "name": "ipython",
    "version": 3
   },
   "file_extension": ".py",
   "mimetype": "text/x-python",
   "name": "python",
   "nbconvert_exporter": "python",
   "pygments_lexer": "ipython3",
   "version": "3.10.8"
  }
 },
 "nbformat": 4,
 "nbformat_minor": 5
}
